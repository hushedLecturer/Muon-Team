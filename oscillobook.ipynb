{
 "cells": [
  {
   "cell_type": "markdown",
   "id": "f6be2251",
   "metadata": {},
   "source": [
    "## Histogram Evolution\n",
    "\n",
    "Does the histogram of detector signals evolve appreciably over time?\n",
    "Set the folder below, and play with the sliders!\n",
    "This also depends on the scopedata.py module.\n",
    "\n",
    "-Hunter L. 5/29/2021\n"
   ]
  },
  {
   "cell_type": "code",
   "execution_count": 1,
   "id": "4dc0b90b",
   "metadata": {},
   "outputs": [],
   "source": [
    "import scopedata as sd\n",
    "import numpy as np\n",
    "from matplotlib import pyplot as plt\n",
    "import os\n",
    "from datetime import datetime\n",
    "from ipywidgets import interact, interactive, fixed, interact_manual\n",
    "import ipywidgets as widgets"
   ]
  },
  {
   "cell_type": "markdown",
   "id": "7d30b7bd",
   "metadata": {},
   "source": [
    "### Put the folder that the wave csv's are located in here. For optimum compatibility use double backslashes."
   ]
  },
  {
   "cell_type": "code",
   "execution_count": 2,
   "id": "82bd65e1",
   "metadata": {},
   "outputs": [],
   "source": [
    "folder = 'C:\\\\Users\\\\lousc\\\\Desktop\\\\oscilloplay\\\\livewaves342021';"
   ]
  },
  {
   "cell_type": "code",
   "execution_count": 3,
   "id": "75001950",
   "metadata": {},
   "outputs": [
    {
     "name": "stdout",
     "output_type": "stream",
     "text": [
      "List complete, 125 waveforms had infinite area.\n"
     ]
    }
   ],
   "source": [
    "timesAndAreas = np.array(sd.CSVToTimeList(folder))"
   ]
  },
  {
   "cell_type": "code",
   "execution_count": 4,
   "id": "d75f68e6",
   "metadata": {},
   "outputs": [],
   "source": [
    "def f(index_start,index_range):\n",
    "    return index_start+index_range\n",
    "\n",
    "def update_range(*args):\n",
    "    range_widge.max = len(timesAndAreas) - start_widge.value - 2\n",
    "    \n",
    "def update_start(*args):\n",
    "    start_widge.max = len(timesAndAreas) - range_widge.value - 1\n",
    "    \n",
    "def histo(start_index, samples_in_range):\n",
    "    sd.listogram(timesAndAreas,start_index,samples_in_range)\n",
    "\n",
    "def printer(start_index, samples_in_range):\n",
    "    starttime = datetime.ctime(datetime.fromtimestamp(timesAndAreas[start_index,0]))\n",
    "    endtime = datetime.ctime(datetime.fromtimestamp(timesAndAreas[start_index+samples_in_range,0]))\n",
    "    timerange = np.floor((timesAndAreas[start_index+samples_in_range,0]-timesAndAreas[start_index,0])/3600)\n",
    "    fullrange = np.floor((timesAndAreas[-1,0]-timesAndAreas[0,0])/3600)\n",
    "    samples = len(timesAndAreas)\n",
    "    print('%d/%d datapoints\\n%d/%d hours\\nStart Time: %s\\nEnd Time:   %s' % (samples_in_range, samples, timerange, fullrange, starttime, endtime))\n",
    "    histo(start_index,samples_in_range)"
   ]
  },
  {
   "cell_type": "code",
   "execution_count": 5,
   "id": "6328fef5",
   "metadata": {},
   "outputs": [],
   "source": [
    "start_widge = widgets.IntSlider(min=0, max=len(timesAndAreas)-3, step=1)\n",
    "range_widge = widgets.IntSlider(min=50, max=len(timesAndAreas)-2, step=1)\n",
    "\n",
    "start_widge.observe(update_start, 'value')\n",
    "range_widge.observe(update_range, 'value')"
   ]
  },
  {
   "cell_type": "markdown",
   "id": "0203e9f3",
   "metadata": {},
   "source": [
    "### The Demonstration\n",
    "\n",
    "Slide start_index to change the position of the time window\n",
    "samples_in_range changes the width of the window.\n",
    "\n",
    "Take care that the window width\n",
    "doesn't surpass the end of the dataset."
   ]
  },
  {
   "cell_type": "code",
   "execution_count": 6,
   "id": "b9b4ceba",
   "metadata": {},
   "outputs": [
    {
     "data": {
      "application/vnd.jupyter.widget-view+json": {
       "model_id": "89351829bbc94be48121d090cb4d3efe",
       "version_major": 2,
       "version_minor": 0
      },
      "text/plain": [
       "interactive(children=(IntSlider(value=1100, description='start_index', max=2276, step=100), IntSlider(value=12…"
      ]
     },
     "metadata": {},
     "output_type": "display_data"
    }
   ],
   "source": [
    "finalout=interactive(printer,start_index=(0,len(timesAndAreas)-100,100),samples_in_range=(100,len(timesAndAreas),100))\n",
    "grabit = finalout.children[-1]\n",
    "grabit.layout.height = '600px'\n",
    "finalout"
   ]
  }
 ],
 "metadata": {
  "kernelspec": {
   "display_name": "Python 3",
   "language": "python",
   "name": "python3"
  },
  "language_info": {
   "codemirror_mode": {
    "name": "ipython",
    "version": 3
   },
   "file_extension": ".py",
   "mimetype": "text/x-python",
   "name": "python",
   "nbconvert_exporter": "python",
   "pygments_lexer": "ipython3",
   "version": "3.8.10"
  }
 },
 "nbformat": 4,
 "nbformat_minor": 5
}
